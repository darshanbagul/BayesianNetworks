{
 "cells": [
  {
   "cell_type": "markdown",
   "metadata": {},
   "source": [
    "# Probability Distributions and Bayesian Networks"
   ]
  },
  {
   "cell_type": "markdown",
   "metadata": {},
   "source": [
    "## Problem:\n",
    "\n",
    "This project introduces probability distributions of several variables pertaining US Universities obtained from US News and World Report. \n",
    "The task at hand is to find a Bayesian Network correlating them with a joint probability distribution, such that it's log likelihood is better than that of data if the variables are independent. \n",
    "\n",
    "Before constructing the Bayesian Network, we explore the basic statistical properties of the variables, such as: Mean, Variance, Standard Deviation of each variable and a covariance and correlation matrix to analyze the behavior of the variable and try to find a correlation among them. \n",
    "We also compute the log-likelihood of the variables assuming them to be independent and mutually exclusive. This gives us a benchmark to optimize the variables correlation. \n",
    "We use some intuition and exhaustive conditional probabilities of all variables to find the required Bayesian Network. Thus, we are trying to find the best BN representation of the variables in agreement with the data provided."
   ]
  },
  {
   "cell_type": "markdown",
   "metadata": {},
   "source": [
    "## Step 1. Reading the Data from Excel Sheet"
   ]
  },
  {
   "cell_type": "code",
   "execution_count": 4,
   "metadata": {
    "collapsed": false
   },
   "outputs": [],
   "source": [
    "%matplotlib inline\n",
    "from report_utils import *"
   ]
  },
  {
   "cell_type": "code",
   "execution_count": 5,
   "metadata": {
    "collapsed": true
   },
   "outputs": [],
   "source": [
    "fname = 'data/university data.xlsx'\n",
    "\n",
    "xl_workbook = xl_read.open_workbook(fname)\n",
    "xl_sheet = xl_workbook.sheet_by_index(0)\n",
    "\n",
    "num_cols = xl_sheet.ncols\n",
    "num_rows = xl_sheet.nrows\n",
    "\n",
    "cs_score_ind = 2\n",
    "res_overhead_ind = 3\n",
    "base_pay_ind = 4\n",
    "tuition_ind = 5"
   ]
  },
  {
   "cell_type": "markdown",
   "metadata": {},
   "source": [
    "#### We use the xlrd library for reading excel sheet provided to us. The above segment makes a connection to the specific sheet of given excel workbook, where our data is stored.\n",
    "\n",
    "#### The below segment of code, reads the data from the excel sheet column by column, and we extract the data corresponding to the 4 Random Variables of Interest:\n",
    "\n",
    "1. CS Score\n",
    "2. Research Overhead\n",
    "3. Administrator Base Salary\n",
    "4. Tuition Fee (Out-of-State)\n",
    "\n",
    "#### While extracting the data for each variable, we also calculate important statistics along with each variable such as the mean, variance and the standard deviation of each variable."
   ]
  },
  {
   "cell_type": "code",
   "execution_count": 6,
   "metadata": {
    "collapsed": true
   },
   "outputs": [],
   "source": [
    "cs_score_avg, cs_score_var, cs_score_std, cs_score_vec = calc_values_column(cs_score_ind, num_rows, xl_sheet)\n",
    "res_overhead_avg, res_overhead_var, res_overhead_std, res_overhead_vec = calc_values_column(res_overhead_ind, num_rows, xl_sheet)\n",
    "base_pay_avg, base_pay_var, base_pay_std, base_pay_vec = calc_values_column(base_pay_ind, num_rows, xl_sheet)\n",
    "tuition_avg, tuition_var, tuition_std, tuition_vec = calc_values_column(tuition_ind, num_rows, xl_sheet)\n",
    "\n",
    "X = np.vstack([cs_score_vec, res_overhead_vec, base_pay_vec, tuition_vec])"
   ]
  },
  {
   "cell_type": "markdown",
   "metadata": {},
   "source": [
    "Now let us try and view the data that we are tackling. In next segment, we are printing the first 10 rows of the data we extracted above.  "
   ]
  },
  {
   "cell_type": "code",
   "execution_count": 7,
   "metadata": {
    "collapsed": false
   },
   "outputs": [
    {
     "name": "stdout",
     "output_type": "stream",
     "text": [
      "   Admin Base Salary  CS Scores  Research Overhead  Tuition\n",
      "0             400400        5.0               57.0    25064\n",
      "1             512500        4.6               58.6    30228\n",
      "2             550000        4.5               54.5    33513\n",
      "3             440000        4.3               55.9    30698\n",
      "4             628190        4.3               55.0    34722\n",
      "5             437000        4.2               53.0    26660\n",
      "6             416000        4.1               54.0    35580\n",
      "7             603357        4.1               55.0    41811\n",
      "8             376827        4.0               55.0    36180\n",
      "9             459000        4.0               52.0    29720\n"
     ]
    }
   ],
   "source": [
    "df = {'CS Scores':pd.Series(X[0]), 'Admin Base Salary':pd.Series(X[2]), 'Research Overhead': pd.Series(X[1]), 'Tuition': pd.Series(X[3])}\n",
    "print pd.DataFrame(df)[:10]"
   ]
  },
  {
   "cell_type": "markdown",
   "metadata": {},
   "source": [
    "### Let us describe the data we obtained statistically, by printing out the important features of each variable, such as mean, std, etc. "
   ]
  },
  {
   "cell_type": "code",
   "execution_count": 8,
   "metadata": {
    "collapsed": false
   },
   "outputs": [
    {
     "data": {
      "text/html": [
       "<div>\n",
       "<table border=\"1\" class=\"dataframe\">\n",
       "  <thead>\n",
       "    <tr style=\"text-align: right;\">\n",
       "      <th></th>\n",
       "      <th>Admin Base Salary</th>\n",
       "      <th>CS Scores</th>\n",
       "      <th>Research Overhead</th>\n",
       "      <th>Tuition</th>\n",
       "    </tr>\n",
       "  </thead>\n",
       "  <tbody>\n",
       "    <tr>\n",
       "      <th>count</th>\n",
       "      <td>49.000000</td>\n",
       "      <td>49.000000</td>\n",
       "      <td>49.000000</td>\n",
       "      <td>49.000000</td>\n",
       "    </tr>\n",
       "    <tr>\n",
       "      <th>mean</th>\n",
       "      <td>469178.816327</td>\n",
       "      <td>3.214286</td>\n",
       "      <td>53.385714</td>\n",
       "      <td>29711.959184</td>\n",
       "    </tr>\n",
       "    <tr>\n",
       "      <th>std</th>\n",
       "      <td>119120.614593</td>\n",
       "      <td>0.676387</td>\n",
       "      <td>3.584748</td>\n",
       "      <td>5600.687082</td>\n",
       "    </tr>\n",
       "    <tr>\n",
       "      <th>min</th>\n",
       "      <td>188294.000000</td>\n",
       "      <td>2.400000</td>\n",
       "      <td>45.000000</td>\n",
       "      <td>20816.000000</td>\n",
       "    </tr>\n",
       "    <tr>\n",
       "      <th>25%</th>\n",
       "      <td>400000.000000</td>\n",
       "      <td>2.600000</td>\n",
       "      <td>51.000000</td>\n",
       "      <td>26030.000000</td>\n",
       "    </tr>\n",
       "    <tr>\n",
       "      <th>50%</th>\n",
       "      <td>464946.000000</td>\n",
       "      <td>3.100000</td>\n",
       "      <td>53.500000</td>\n",
       "      <td>28813.000000</td>\n",
       "    </tr>\n",
       "    <tr>\n",
       "      <th>75%</th>\n",
       "      <td>526549.000000</td>\n",
       "      <td>3.600000</td>\n",
       "      <td>55.000000</td>\n",
       "      <td>33624.000000</td>\n",
       "    </tr>\n",
       "    <tr>\n",
       "      <th>max</th>\n",
       "      <td>851303.000000</td>\n",
       "      <td>5.000000</td>\n",
       "      <td>61.000000</td>\n",
       "      <td>42184.000000</td>\n",
       "    </tr>\n",
       "  </tbody>\n",
       "</table>\n",
       "</div>"
      ],
      "text/plain": [
       "       Admin Base Salary  CS Scores  Research Overhead       Tuition\n",
       "count          49.000000  49.000000          49.000000     49.000000\n",
       "mean       469178.816327   3.214286          53.385714  29711.959184\n",
       "std        119120.614593   0.676387           3.584748   5600.687082\n",
       "min        188294.000000   2.400000          45.000000  20816.000000\n",
       "25%        400000.000000   2.600000          51.000000  26030.000000\n",
       "50%        464946.000000   3.100000          53.500000  28813.000000\n",
       "75%        526549.000000   3.600000          55.000000  33624.000000\n",
       "max        851303.000000   5.000000          61.000000  42184.000000"
      ]
     },
     "execution_count": 8,
     "metadata": {},
     "output_type": "execute_result"
    }
   ],
   "source": [
    "pd.DataFrame(df).describe()"
   ]
  },
  {
   "cell_type": "markdown",
   "metadata": {},
   "source": [
    "## Step 2. Finding Correlation among Variables\n",
    "\n",
    "#### In this section, we shall be visualising different aspects of the random variables, in order to learn more about the correlation between the variables.\n",
    "\n",
    "#### 1. Covariance Matrix\n",
    "First we calculate the covariance matrix of the 4 random variables, and visualise it below."
   ]
  },
  {
   "cell_type": "code",
   "execution_count": 9,
   "metadata": {
    "collapsed": false
   },
   "outputs": [
    {
     "name": "stdout",
     "output_type": "stream",
     "text": [
      "[[  4.57500000e-01   1.10562500e+00   3.87978185e+03   1.05847976e+03]\n",
      " [  1.10562500e+00   1.28504167e+01   7.02793765e+04   2.80578899e+03]\n",
      " [  3.87978185e+03   7.02793765e+04   1.41897208e+10  -1.63685641e+08]\n",
      " [  1.05847976e+03   2.80578899e+03  -1.63685641e+08   3.13676958e+07]]\n"
     ]
    },
    {
     "data": {
      "image/png": "[encoded data removed]",
      "text/plain": [
       "<matplotlib.figure.Figure at 0x10f155bd0>"
      ]
     },
     "metadata": {},
     "output_type": "display_data"
    }
   ],
   "source": [
    "alpha = ['CS_Score', 'Res_Over', 'Base_Pay', 'Tuition']\n",
    "cov_X = np.cov(X)\n",
    "print cov_X\n",
    "plot_values = []\n",
    "for i in cov_X:\n",
    "    row = []\n",
    "    for j in i:\n",
    "        if j>0:\n",
    "            row.append(np.log(j))\n",
    "        else:\n",
    "            row.append(-1 * np.log(-j))\n",
    "    plot_values.append(row)\n",
    "plot_values = np.vstack(plot_values)\n",
    "fig1 = plt.figure()\n",
    "plt.title('Covariance Matrix Representation (in log)')\n",
    "ax1 = fig1.add_subplot(111)\n",
    "cax1 = ax1.matshow(plot_values, interpolation='nearest')\n",
    "fig1.colorbar(cax1)\n",
    "\n",
    "ax1.set_xticklabels(['']+alpha)\n",
    "ax1.set_yticklabels(['']+alpha)\n",
    "plt.show()"
   ]
  },
  {
   "cell_type": "markdown",
   "metadata": {},
   "source": [
    "#### 2. Correlation Matrix\n",
    "We will do similar steps, for calculating the Correlation Matrix as well. This measure further clarifies the correlation between different variables."
   ]
  },
  {
   "cell_type": "code",
   "execution_count": 10,
   "metadata": {
    "collapsed": false
   },
   "outputs": [
    {
     "name": "stdout",
     "output_type": "stream",
     "text": [
      "Correlation Matrix = \n",
      "[[ 1.          0.4559883   0.04815316  0.27941242]\n",
      " [ 0.4559883   1.          0.16458201  0.13975105]\n",
      " [ 0.04815316  0.16458201  1.         -0.2453479 ]\n",
      " [ 0.27941242  0.13975105 -0.2453479   1.        ]]\n"
     ]
    },
    {
     "data": {
      "text/plain": [
       "[<matplotlib.text.Text at 0x10f461d50>,\n",
       " <matplotlib.text.Text at 0x10f46b850>,\n",
       " <matplotlib.text.Text at 0x10f54f310>,\n",
       " <matplotlib.text.Text at 0x10f54f810>,\n",
       " <matplotlib.text.Text at 0x10f54fd10>]"
      ]
     },
     "execution_count": 10,
     "metadata": {},
     "output_type": "execute_result"
    },
    {
     "data": {
      "image/png": "[encoded data removed]",
      "text/plain": [
       "<matplotlib.figure.Figure at 0x10f1c3f90>"
      ]
     },
     "metadata": {},
     "output_type": "display_data"
    }
   ],
   "source": [
    "print \"Correlation Matrix = \"\n",
    "print np.corrcoef(X)\n",
    "fig = plt.figure()\n",
    "plt.title('Correlation Matrix Representation')\n",
    "ax = fig.add_subplot(111)\n",
    "cax = ax.matshow(np.corrcoef(X), interpolation='nearest')\n",
    "fig.colorbar(cax)\n",
    "\n",
    "ax.set_xticklabels(['']+alpha)\n",
    "ax.set_yticklabels(['']+alpha)"
   ]
  },
  {
   "cell_type": "markdown",
   "metadata": {
    "collapsed": true
   },
   "source": [
    "### As we see above, 'Research Overhead' and 'CS Score' are strongly correlated variables. "
   ]
  },
  {
   "cell_type": "markdown",
   "metadata": {},
   "source": [
    "#### 3. Pairwise Visualisation of Data\n",
    "\n",
    "##### A. CS Score"
   ]
  },
  {
   "cell_type": "code",
   "execution_count": 11,
   "metadata": {
    "collapsed": false
   },
   "outputs": [
    {
     "data": {
      "image/png": "[encoded data removed]",
      "text/plain": [
       "<matplotlib.figure.Figure at 0x10f1c3190>"
      ]
     },
     "metadata": {},
     "output_type": "display_data"
    },
    {
     "data": {
      "image/png": "[encoded data removed]",
      "text/plain": [
       "<matplotlib.figure.Figure at 0x10f6d5c90>"
      ]
     },
     "metadata": {},
     "output_type": "display_data"
    },
    {
     "data": {
      "image/png": "[encoded data removed]",
      "text/plain": [
       "<matplotlib.figure.Figure at 0x10f6d5cd0>"
      ]
     },
     "metadata": {},
     "output_type": "display_data"
    }
   ],
   "source": [
    "plot_vector_pairs_scatter(cs_score_vec, base_pay_vec, \"CS Score\", \"Administrator Base Salary\", \"CS Score vs. Administrator Base Salary\")\n",
    "plot_vector_pairs_scatter(cs_score_vec, res_overhead_vec, \"CS Score\", \"Research Overhead\", \"CS Score vs. Research Overhead\")\n",
    "plot_vector_pairs_scatter(cs_score_vec, tuition_vec, \"CS Score\", \"Tuition Fee\", \"CS Score vs. Tuition Fee\")"
   ]
  },
  {
   "cell_type": "markdown",
   "metadata": {},
   "source": [
    "From the above plots, research overhead seems to be strongly correlated to CS Score. As Research Overhead percent increases for the Universities, their CS ranking scores also increase. The correlation matrix also agrees with our hypothesis.\n",
    "\n",
    "Also, we see that the Tuition fee tends to increase with CS Scores."
   ]
  },
  {
   "cell_type": "markdown",
   "metadata": {},
   "source": [
    "##### B. Research Overhead"
   ]
  },
  {
   "cell_type": "code",
   "execution_count": 12,
   "metadata": {
    "collapsed": false
   },
   "outputs": [
    {
     "data": {
      "image/png": "[encoded data removed]",
      "text/plain": [
       "<matplotlib.figure.Figure at 0x10f0ddc10>"
      ]
     },
     "metadata": {},
     "output_type": "display_data"
    },
    {
     "data": {
      "image/png": "[encoded data removed]",
      "text/plain": [
       "<matplotlib.figure.Figure at 0x10f7e4c50>"
      ]
     },
     "metadata": {},
     "output_type": "display_data"
    }
   ],
   "source": [
    "plot_vector_pairs_scatter(res_overhead_vec, base_pay_vec, \"Research Overhead\", \"Administrator Base Salary\", \"Research Overhead vs. Administrator Base Salary\")\n",
    "plot_vector_pairs_scatter(res_overhead_vec, tuition_vec, \"Research Overhead\", \"Tuition Fee\", \"Research Overhead vs. Tuition Fee\")"
   ]
  },
  {
   "cell_type": "markdown",
   "metadata": {},
   "source": [
    "Again, from the above plots, we can infer that Research Overhead is proportional to the AdminBasePay. As the pay increases, the Research Overhead increases as observed in the plot above."
   ]
  },
  {
   "cell_type": "markdown",
   "metadata": {},
   "source": [
    "##### C. Administrator Base Salary"
   ]
  },
  {
   "cell_type": "code",
   "execution_count": 13,
   "metadata": {
    "collapsed": false
   },
   "outputs": [
    {
     "data": {
      "image/png": "[encoded data removed]",
      "text/plain": [
       "<matplotlib.figure.Figure at 0x10f956090>"
      ]
     },
     "metadata": {},
     "output_type": "display_data"
    }
   ],
   "source": [
    "plot_vector_pairs_scatter(base_pay_vec, tuition_vec, \"Administrator Base Salary\", \"Tuition Fee\", \"Administrator Base Salary vs. Tuition Fee\")"
   ]
  },
  {
   "cell_type": "markdown",
   "metadata": {},
   "source": [
    "In the graph between Admin Base Salary and Tuition fee, we see that although the plot is distributed on entire range for a given Admin Salary, there are small clusters and the position of these clusters go higher as we move to the right on the x axis."
   ]
  },
  {
   "cell_type": "markdown",
   "metadata": {},
   "source": [
    "\n",
    "Given there are 4 Random variables, there are 6 unique graphs possible for pairwise visualisation. We have plotted all possible graphs above.\n",
    "\n"
   ]
  },
  {
   "cell_type": "markdown",
   "metadata": {},
   "source": [
    "## Step 3. Calculating Log Likelihoods of Each Variable\n",
    "\n",
    "We have been given that the variables are normally distributed continuos variables. \n",
    "\n",
    "We shall be using the mean and standard deviation we obtained in the step1, along with the scipy library function to find the log likelihood of each variable, assuming they are independent of each other. "
   ]
  },
  {
   "cell_type": "code",
   "execution_count": 14,
   "metadata": {
    "collapsed": false
   },
   "outputs": [
    {
     "name": "stdout",
     "output_type": "stream",
     "text": [
      "CS Score: Likelihood =  -49.864344931\n",
      "Administrator Base Salary: Likelihood =  -641.729515103\n",
      "Research Overhead: Likelihood =  -131.580533378\n",
      "Tuition Fee: Likelihood =  -491.924399148\n"
     ]
    }
   ],
   "source": [
    "cs_score_ind_likelihood = calc_independent_loglikelihood_var(cs_score_vec, cs_score_avg, cs_score_std)\n",
    "base_pay_ind_likelihood = calc_independent_loglikelihood_var(base_pay_vec, base_pay_avg, base_pay_std)\n",
    "res_overhead_ind_likelihood = calc_independent_loglikelihood_var(res_overhead_vec, res_overhead_avg, res_overhead_std)\n",
    "tuition_ind_likelihood = calc_independent_loglikelihood_var(tuition_vec, tuition_avg, tuition_std)\n",
    "\n",
    "print \"CS Score: Likelihood = \", cs_score_ind_likelihood\n",
    "print \"Administrator Base Salary: Likelihood = \", base_pay_ind_likelihood\n",
    "print \"Research Overhead: Likelihood = \", res_overhead_ind_likelihood\n",
    "print \"Tuition Fee: Likelihood = \", tuition_ind_likelihood"
   ]
  },
  {
   "cell_type": "markdown",
   "metadata": {},
   "source": [
    "It has been given that the variable distributions are independent of each other. \n",
    "\n",
    "Hence, the likelihood of data = sum of likelihood of independent variables"
   ]
  },
  {
   "cell_type": "code",
   "execution_count": 15,
   "metadata": {
    "collapsed": false
   },
   "outputs": [
    {
     "name": "stdout",
     "output_type": "stream",
     "text": [
      "Data logLikelihood =  -1315.099\n"
     ]
    }
   ],
   "source": [
    "data_likelihood = cs_score_ind_likelihood + base_pay_ind_likelihood + res_overhead_ind_likelihood + tuition_ind_likelihood\n",
    "print \"Data logLikelihood = \", round(data_likelihood, 3)"
   ]
  },
  {
   "cell_type": "markdown",
   "metadata": {},
   "source": [
    "## Step 4. Constructing Bayesian Network\n",
    "\n",
    "Now that we have the log likelihoods of independent variables and the data log likelihood as well, we have to construct a Bayesian Network, which will improve the data log likelihood.\n",
    "\n",
    "For doing this we will follow the following steps:\n",
    "1. Calculate conditional probabilities taking two variables at a time. P(Y|X1)\n",
    "2. Calculate conditional probabilities taking three variables at a time, with one child node having two parent nodes. P(Y|X1,X2)\n",
    "3. Calculate conditional probabilities taking all variables at a time, with one child node having 3 parent nodes.\n",
    "4. Once we have all these probabilities, we compare each probability against the corresponding independent variable probability.\n",
    "eg. Compare P(Y) against P(Y|X1), P(Y|X2), P(Y|X3), P(Y|X1,X2), P(Y|X2,X3), P(Y|X1,X3), P(Y|X1,X2,X3)\n",
    "\n",
    "Do this for all 4 variables and find the conditional probability which introduces maximum gain in log likelihood with respect to the corresponding independent likelihood of variable.\n",
    "\n",
    "5. After the step above, replace the independent variables with dependent probabilities above and make appropriate connections(parents -> child nodes).\n",
    "6. Take care that no cycles are formed in the graph, if a cycle is formed, remove the connection which contributes least to the log likelihood of the Bayesian Network.\n",
    "7. Find the log likelihood of the Bayesian Network formed, by adding the respective conditional probabilities and Independent probability of the parent node, with no parent.\n",
    "8. If the BNLogLikelihood > data likelihood, repeat the process with different connections, until you find a Bayesian Network with BNLogLikelihood < data likelihood.\n",
    "\n",
    "\n",
    "#### For the sake of experimenting, we calculate all possible conditional probabilities, by all possible permutations of the random variables given.\n",
    "\n",
    "#### A subset of the conditional probabilities, which help in deciding the final Bayesian network has been printed below, for the sake of completeness of the solution "
   ]
  },
  {
   "cell_type": "code",
   "execution_count": null,
   "metadata": {
    "collapsed": true
   },
   "outputs": [],
   "source": [
    "print \"\\n\"\n",
    "print \"Two variable Conditional Probabilities:\"\n",
    "print \"CS Score as dependent: \"\n",
    "cs_score_base_pay_cond_prob = calc_cond_prob_one_var(\n",
    "    cs_score_vec, base_pay_vec)\n",
    "cs_score_res_overhead_cond_prob = calc_cond_prob_one_var(\n",
    "    cs_score_vec, res_overhead_vec)\n",
    "cs_score_tuition_cond_prob = calc_cond_prob_one_var(\n",
    "    cs_score_vec, tuition_vec)\n",
    "\n",
    "cs_score_base_pay_research_cond_prob = calc_cond_prob_two_var(\n",
    "    cs_score_vec, base_pay_vec, res_overhead_vec)\n",
    "cs_score_research_tuition_cond_prob = calc_cond_prob_two_var(\n",
    "    cs_score_vec, res_overhead_vec, tuition_vec)\n",
    "cs_score_base_pay_tuition_cond_prob = calc_cond_prob_two_var(\n",
    "    cs_score_vec, base_pay_vec, tuition_vec)\n",
    "\n",
    "all_dependent_cs_score = calc_cond_prob_three_var(\n",
    "    cs_score_vec, base_pay_vec, res_overhead_vec, tuition_vec)\n",
    "\n",
    "print \"CS_Score <- Base_pay prob: \", cs_score_base_pay_cond_prob\n",
    "print \"CS_Score <- Research_Overhead prob: \", cs_score_res_overhead_cond_prob\n",
    "print \"CS_Score <- Tuition prob: \", cs_score_tuition_cond_prob\n",
    "\n",
    "print \"Research_Overhead -> CS_Score <- Base_pay prob: \", cs_score_base_pay_research_cond_prob\n",
    "print \"Tuition -> CS_Score <- Research_Overhead prob: \", cs_score_research_tuition_cond_prob\n",
    "print \"Base_pay -> CS_Score <- Tuition prob: \", cs_score_base_pay_tuition_cond_prob\n",
    "\n",
    "print \"CS Score dependent on all: \", all_dependent_cs_score\n",
    "\n",
    "print \"\\n\"\n",
    "print \"Conditional probabilities 2 at a time: \"\n",
    "\n",
    "print \"\\n\"\n",
    "print \"Base_pay as dependent: \"\n",
    "\n",
    "base_pay_research_cond_prob = calc_cond_prob_one_var(\n",
    "    base_pay_vec, res_overhead_vec)\n",
    "base_pay_tuition_cond_prob = calc_cond_prob_one_var(\n",
    "    base_pay_vec, tuition_vec)\n",
    "base_pay_cs_score_cond_prob = calc_cond_prob_one_var(\n",
    "    base_pay_vec, cs_score_vec)\n",
    "\n",
    "base_pay_research_tuition_cond_prob = calc_cond_prob_two_var(\n",
    "    base_pay_vec, res_overhead_vec, tuition_vec)\n",
    "print \"Base_pay <- CS_Score prob: \", base_pay_cs_score_cond_prob\n",
    "print \"Base_pay <- Research_Overhead prob: \", base_pay_research_cond_prob\n",
    "print \"Base_pay <- Tuition prob: \", base_pay_tuition_cond_prob\n",
    "\n",
    "print \"Tuition -> Base_pay <- Research_Overhead prob: \",\n",
    "base_pay_research_tuition_cond_prob\n",
    "\n",
    "print \"\\n\"\n",
    "print \"Research_Overhead as dependent: \"\n",
    "res_overhead_base_pay_cond_prob = calc_cond_prob_one_var(\n",
    "    res_overhead_vec, base_pay_vec)\n",
    "res_overhead_tuition_cond_prob = calc_cond_prob_one_var(\n",
    "    res_overhead_vec, tuition_vec)"
   ]
  },
  {
   "cell_type": "code",
   "execution_count": 18,
   "metadata": {
    "collapsed": false
   },
   "outputs": [
    {
     "name": "stdout",
     "output_type": "stream",
     "text": [
      "\n",
      "\n",
      "Two variable Conditional Probabilities:\n",
      "CS Score as dependent: \n",
      "CS_Score <- Base_pay prob:  -49.8074701496\n",
      "CS_Score <- Research_Overhead prob:  -44.1534045568\n",
      "CS_Score <- Tuition prob:  -47.8728039136\n",
      "Research_Overhead -> CS_Score <- Base_pay prob:  -44.1303980502\n",
      "Tuition -> CS_Score <- Research_Overhead prob:  -42.6399802384\n",
      "Base_pay -> CS_Score <- Tuition prob:  -47.4846027171\n",
      "CS Score dependent on all:  -42.6021694644\n",
      "\n",
      "\n",
      "Conditional probabilities 2 at a time: \n",
      "\n",
      "\n",
      "Base_pay as dependent: \n",
      "Base_pay <- CS_Score prob:  -641.672640322\n",
      "Base_pay <- Research_Overhead prob:  -641.056724018\n",
      "Base_pay <- Tuition prob:  -640.208469269\n",
      "Tuition -> Base_pay <- Research_Overhead prob:  -639.133681744\n",
      "\n",
      "\n",
      "Research_Overhead as dependent: \n",
      "Research_Overhead <- CS_Score prob:  -125.869593004\n",
      "Research_Overhead <- Base_pay prob:  -130.907742294\n",
      "Research_Overhead <- Tuition prob:  -131.097305307\n",
      "Tuition -> Research_Overhead <- Base_pay prob:  -130.022517783\n",
      "\n",
      "\n",
      "Tuition as dependent: \n",
      "Tuition <- CS_Score prob:  -489.932858131\n",
      "Tuition <- Base_pay prob:  -490.403353314\n",
      "Tuition <- Research_Overhead prob:  -491.441171077\n",
      "Research_Overhead -> Tuition <- Base_pay prob:  -489.518128803\n"
     ]
    }
   ],
   "source": [
    "res_overhead_cs_score_cond_prob = calc_cond_prob_one_var(\n",
    "    res_overhead_vec, cs_score_vec)\n",
    "\n",
    "res_overhead_base_pay_tuition_cond_prob = calc_cond_prob_two_var(\n",
    "    res_overhead_vec, base_pay_vec, tuition_vec)\n",
    "\n",
    "print \"Research_Overhead <- CS_Score prob: \", res_overhead_cs_score_cond_prob\n",
    "print \"Research_Overhead <- Base_pay prob: \", res_overhead_base_pay_cond_prob\n",
    "print \"Research_Overhead <- Tuition prob: \", res_overhead_tuition_cond_prob\n",
    "\n",
    "print \"Tuition -> Research_Overhead <- Base_pay prob: \", \n",
    "res_overhead_base_pay_tuition_cond_prob\n",
    "\n",
    "print \"\\n\"\n",
    "print \"Tuition as dependent: \"\n",
    "tuition_base_pay_cond_prob = calc_cond_prob_one_var(\n",
    "    tuition_vec, base_pay_vec)\n",
    "tuition_res_overhead_cond_prob = calc_cond_prob_one_var(\n",
    "    tuition_vec, res_overhead_vec)\n",
    "tuition_cs_score_cond_prob = calc_cond_prob_one_var(\n",
    "    tuition_vec, cs_score_vec)\n",
    "\n",
    "tuition_res_overhead_base_pay_cond_prob = calc_cond_prob_two_var(\n",
    "    tuition_vec, res_overhead_vec, base_pay_vec)\n",
    "\n",
    "print \"Tuition <- CS_Score prob: \", tuition_cs_score_cond_prob\n",
    "print \"Tuition <- Base_pay prob: \", tuition_base_pay_cond_prob\n",
    "print \"Tuition <- Research_Overhead prob: \", tuition_res_overhead_cond_prob\n",
    "\n",
    "print \"Research_Overhead -> Tuition <- Base_pay prob: \", \n",
    "tuition_res_overhead_base_pay_cond_prob"
   ]
  },
  {
   "cell_type": "markdown",
   "metadata": {},
   "source": [
    "Observing the log likelihoods of all possible variables combinations, and using the greedy approach for optimising the log-likelihood of our Bayesian Network, we find that:\n",
    "\n",
    "#### The most optimal Bayeian Network has conditional probabilities,\n",
    "\n",
    "P(CSScore | ResearchOverhead, AdminBaseSalary, Tuition)\n",
    "\n",
    "P(ResearchOverhead | AdminBaseSalary, Tuition)\n",
    "\n",
    "P(AdminBaseSalary | Tuition)\n",
    "\n",
    "P(Tuition)"
   ]
  },
  {
   "cell_type": "code",
   "execution_count": 19,
   "metadata": {
    "collapsed": false
   },
   "outputs": [
    {
     "name": "stdout",
     "output_type": "stream",
     "text": [
      "BNgraph = \n",
      "[[0 0 0 0]\n",
      " [1 0 0 0]\n",
      " [1 1 0 0]\n",
      " [1 1 1 0]]\n"
     ]
    }
   ],
   "source": [
    "print \"BNgraph = \"\n",
    "\n",
    "cs_score_outbound_edges = [0,0,0,0]\n",
    "base_pay_outbound_edges = [1,0,0,0]\n",
    "res_overhead_outbound_edges = [1,1,0,0]\n",
    "tuition_outbound_edges = [1,1,1,0]\n",
    "\n",
    "BN_GRAPH = np.vstack([cs_score_outbound_edges, base_pay_outbound_edges, res_overhead_outbound_edges, tuition_outbound_edges])\n",
    "print BN_GRAPH"
   ]
  },
  {
   "cell_type": "markdown",
   "metadata": {
    "collapsed": true
   },
   "source": [
    "### The Final Bayesian Network is as shown in the figure below:"
   ]
  },
  {
   "cell_type": "markdown",
   "metadata": {},
   "source": [
    "<img src=\"final_BNGraph.png\"/>"
   ]
  },
  {
   "cell_type": "markdown",
   "metadata": {},
   "source": [
    "Lastly, we add the values of log likelihoods corresponding to the following probabilities:\n",
    "P(CSScore | ResearchOverhead, AdminBaseSalary, Tuition),\n",
    "P(ResearchOverhead | AdminBaseSalary, Tuition),\n",
    "P(AdminBaseSalary | Tuition),\n",
    "P(Tuition)\n",
    "to get the log likelihood of our Bayesian Network."
   ]
  },
  {
   "cell_type": "code",
   "execution_count": 20,
   "metadata": {
    "collapsed": false
   },
   "outputs": [
    {
     "name": "stdout",
     "output_type": "stream",
     "text": [
      "BNlogLikelihood =  -1304.758\n"
     ]
    }
   ],
   "source": [
    "BN_GRAPH_likelihood = all_dependent_cs_score + base_pay_research_tuition_cond_prob + res_overhead_tuition_cond_prob + tuition_ind_likelihood\n",
    "print \"BNlogLikelihood = \", round(BN_GRAPH_likelihood, 3)"
   ]
  },
  {
   "cell_type": "markdown",
   "metadata": {},
   "source": [
    "## Conclusions:\n",
    "\n",
    "1. CS Score is dependent on all Research Overhead, Admin Base Salary, Tuition Fees.\n",
    "2. Research Overhead is dependent on Admin Base Salary and TuitionFees.\n",
    "3. Admin Base Salary is dependent on Tuition Fees.\n",
    "\n",
    "### From the arguments made above we have an interesting inference:\n",
    "### If any school has a higher tuition fees then the Admin Base Salary is better, if so then, Research Overhead is also higher and all these factors lead to a higher CS Score."
   ]
  }
 ],
 "metadata": {
  "kernelspec": {
   "display_name": "Python 2",
   "language": "python",
   "name": "python2"
  },
  "language_info": {
   "codemirror_mode": {
    "name": "ipython",
    "version": 2
   },
   "file_extension": ".py",
   "mimetype": "text/x-python",
   "name": "python",
   "nbconvert_exporter": "python",
   "pygments_lexer": "ipython2",
   "version": "2.7.12"
  }
 },
 "nbformat": 4,
 "nbformat_minor": 0
}
